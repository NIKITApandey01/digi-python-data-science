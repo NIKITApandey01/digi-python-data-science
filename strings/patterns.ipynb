{
 "cells": [
  {
   "cell_type": "code",
   "execution_count": 18,
   "metadata": {},
   "outputs": [],
   "source": [
    "def printN():\n",
    "    counter=0\n",
    "    h=9\n",
    "    for i in range(0,h):\n",
    "        print(\"NN\",end=\"\")\n",
    "        for j in range(0,h):\n",
    "            if(j==h-1):\n",
    "                print(\"NN\",end=\"\")\n",
    "            elif(j==counter):\n",
    "                print(\"NN\",end=\"\")\n",
    "            else:\n",
    "                print(end=\" \")\n",
    "        counter+=1\n",
    "        print()\n",
    "    print(end=\"\")\n",
    "    \n",
    "\n",
    "\n"
   ]
  },
  {
   "cell_type": "code",
   "execution_count": 19,
   "metadata": {},
   "outputs": [
    {
     "name": "stdout",
     "output_type": "stream",
     "text": [
      "NNNN       NN\n",
      "NN NN      NN\n",
      "NN  NN     NN\n",
      "NN   NN    NN\n",
      "NN    NN   NN\n",
      "NN     NN  NN\n",
      "NN      NN NN\n",
      "NN       NNNN\n",
      "NN        NN\n"
     ]
    }
   ],
   "source": [
    "printN()"
   ]
  },
  {
   "cell_type": "code",
   "execution_count": 24,
   "metadata": {},
   "outputs": [],
   "source": [
    "def printH():\n",
    "    counter=0\n",
    "    for i in range(0,9):\n",
    "        print(\"HH\",end=\"\")\n",
    "        for j in range(0,9):\n",
    "            if(j==9):\n",
    "                print(\"HH\",end=\"\")\n",
    "            elif(j==counter):\n",
    "                print(end=\" \")"
   ]
  },
  {
   "cell_type": "code",
   "execution_count": 25,
   "metadata": {},
   "outputs": [
    {
     "name": "stdout",
     "output_type": "stream",
     "text": [
      "HH HH HH HH HH HH HH HH HH "
     ]
    }
   ],
   "source": [
    "printH()"
   ]
  }
 ],
 "metadata": {
  "kernelspec": {
   "display_name": "Python 3.9.12 ('base')",
   "language": "python",
   "name": "python3"
  },
  "language_info": {
   "codemirror_mode": {
    "name": "ipython",
    "version": 3
   },
   "file_extension": ".py",
   "mimetype": "text/x-python",
   "name": "python",
   "nbconvert_exporter": "python",
   "pygments_lexer": "ipython3",
   "version": "3.9.12"
  },
  "orig_nbformat": 4,
  "vscode": {
   "interpreter": {
    "hash": "98eabb4ecb079f6ab10f8dee230a66b2a15b8304706421bed2d37b91eaa48f37"
   }
  }
 },
 "nbformat": 4,
 "nbformat_minor": 2
}
