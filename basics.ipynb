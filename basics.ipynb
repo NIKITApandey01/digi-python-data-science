{
 "cells": [
  {
   "cell_type": "code",
   "execution_count": 20,
   "metadata": {},
   "outputs": [
    {
     "ename": "SyntaxError",
     "evalue": "invalid syntax (3478589565.py, line 8)",
     "output_type": "error",
     "traceback": [
      "\u001b[1;36m  Cell \u001b[1;32mIn [20], line 8\u001b[1;36m\u001b[0m\n\u001b[1;33m    return(a>b) ? true:false\u001b[0m\n\u001b[1;37m                ^\u001b[0m\n\u001b[1;31mSyntaxError\u001b[0m\u001b[1;31m:\u001b[0m invalid syntax\n"
     ]
    }
   ],
   "source": [
    "a=10\n",
    "b=5\n",
    "if(a<1888):\n",
    "    print(\"ok\")\n",
    "if(a>11):\n",
    "    print(\"okefkjhdh\")\n",
    "\n",
    "return(a>b) ? true:false"
   ]
  },
  {
   "cell_type": "code",
   "execution_count": 6,
   "metadata": {},
   "outputs": [
    {
     "name": "stdout",
     "output_type": "stream",
     "text": [
      "the value of A:77 the value of77\n"
     ]
    }
   ],
   "source": [
    "a=int(input(\"enter \"))\n",
    "if a>50:\n",
    "    a+=10\n",
    "\n",
    "print(f\"the value of A:{a}\",f\"the value of{a}\")\n"
   ]
  },
  {
   "cell_type": "code",
   "execution_count": 9,
   "metadata": {},
   "outputs": [
    {
     "name": "stdout",
     "output_type": "stream",
     "text": [
      "bad\n"
     ]
    }
   ],
   "source": [
    "if(a<10):\n",
    "    print('nice')\n",
    "else:\n",
    "    print(\"bad\")"
   ]
  },
  {
   "cell_type": "code",
   "execution_count": 13,
   "metadata": {},
   "outputs": [
    {
     "name": "stdout",
     "output_type": "stream",
     "text": [
      "odd\n"
     ]
    }
   ],
   "source": [
    "num=int(input(\"enter\"))\n",
    "if(num%2==0):\n",
    "    print(\"even\")\n",
    "else:\n",
    "    print(\"odd\")"
   ]
  },
  {
   "cell_type": "code",
   "execution_count": 17,
   "metadata": {},
   "outputs": [
    {
     "name": "stdout",
     "output_type": "stream",
     "text": [
      "oh wow 70 is divisble\n"
     ]
    }
   ],
   "source": [
    "num=int(input(\"enter\"))\n",
    "if(num%5==0)and (num%7==0):\n",
    "    print(f\"oh wow {num} is divisble\")\n",
    "else:\n",
    "    print(f'oh {num}not')"
   ]
  },
  {
   "cell_type": "code",
   "execution_count": 25,
   "metadata": {},
   "outputs": [
    {
     "name": "stdout",
     "output_type": "stream",
     "text": [
      "galat hai\n"
     ]
    }
   ],
   "source": [
    "name=input(\"enter name\")\n",
    "email=input(\"enter add\")\n",
    "mobile=input(\"entermobile\")\n",
    "city=input(\"enter city\")\n",
    "\n",
    "if len(name)>1:\n",
    "    if\"@\"in email and len(email)>11:\n",
    "        if len(mobile)==10 and mobile.isnumeric():\n",
    "            if city in['lucknow','delhi','noida']:\n",
    "                print(\"data galat hai\")\n",
    "            else:\n",
    "                print(\"sorry\")\n",
    "        else:\n",
    "            print(\"galat hai\")\n",
    "    else:\n",
    "        print(\"galat\")\n",
    "else:\n",
    "    print('enetr correct name')\n",
    "\n",
    "\n"
   ]
  },
  {
   "cell_type": "code",
   "execution_count": null,
   "metadata": {},
   "outputs": [],
   "source": []
  }
 ],
 "metadata": {
  "kernelspec": {
   "display_name": "Python 3.9.12 ('base')",
   "language": "python",
   "name": "python3"
  },
  "language_info": {
   "codemirror_mode": {
    "name": "ipython",
    "version": 3
   },
   "file_extension": ".py",
   "mimetype": "text/x-python",
   "name": "python",
   "nbconvert_exporter": "python",
   "pygments_lexer": "ipython3",
   "version": "3.9.12"
  },
  "orig_nbformat": 4,
  "vscode": {
   "interpreter": {
    "hash": "98eabb4ecb079f6ab10f8dee230a66b2a15b8304706421bed2d37b91eaa48f37"
   }
  }
 },
 "nbformat": 4,
 "nbformat_minor": 2
}
